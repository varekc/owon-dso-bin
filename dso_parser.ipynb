{
  "nbformat": 4,
  "nbformat_minor": 0,
  "metadata": {
    "colab": {
      "provenance": []
    },
    "kernelspec": {
      "name": "python3",
      "display_name": "Python 3"
    },
    "language_info": {
      "name": "python"
    }
  },
  "cells": [
    {
      "cell_type": "code",
      "source": [
        "!pip install pint"
      ],
      "metadata": {
        "colab": {
          "base_uri": "https://localhost:8080/"
        },
        "id": "T50FvPT4-kMj",
        "outputId": "302db7fd-691c-4101-825b-bd9994b3c3dd"
      },
      "execution_count": 1,
      "outputs": [
        {
          "output_type": "stream",
          "name": "stdout",
          "text": [
            "Requirement already satisfied: pint in /usr/local/lib/python3.10/dist-packages (0.24.1)\n",
            "Requirement already satisfied: appdirs>=1.4.4 in /usr/local/lib/python3.10/dist-packages (from pint) (1.4.4)\n",
            "Requirement already satisfied: typing-extensions in /usr/local/lib/python3.10/dist-packages (from pint) (4.12.2)\n",
            "Requirement already satisfied: flexcache>=0.3 in /usr/local/lib/python3.10/dist-packages (from pint) (0.3)\n",
            "Requirement already satisfied: flexparser>=0.3 in /usr/local/lib/python3.10/dist-packages (from pint) (0.3.1)\n"
          ]
        }
      ]
    },
    {
      "cell_type": "code",
      "source": [
        "import json, re, struct, pint\n",
        "ureg = pint.UnitRegistry()"
      ],
      "metadata": {
        "id": "gILtsz9XmLsc"
      },
      "execution_count": 2,
      "outputs": []
    },
    {
      "cell_type": "markdown",
      "source": [
        "# Owon DSO Parser\n",
        "\n",
        "Parse `.bin` files from DSOs like _Owon SDS1104_.\n",
        "Tested with this specific model &ndash; likely works with\n",
        "`.bin` files starting with `SPBXDS` from other models as well."
      ],
      "metadata": {
        "id": "XDt2hk4UhCsq"
      }
    },
    {
      "cell_type": "markdown",
      "source": [
        "\n",
        "## Populate `data` from github\n",
        "Adapt for other notebook environments or data sources.\n",
        "`data` should contain a raw binary string with `.bin`\n",
        "file's content."
      ],
      "metadata": {
        "id": "Zt80zeE0gV14"
      }
    },
    {
      "cell_type": "code",
      "source": [
        "import requests\n",
        "\n",
        "url = 'https://github.com/varekc/owon-dso-bin/raw/main/samples/switch_contact_bounce.bin'\n",
        "response = requests.get(url)\n",
        "\n",
        "assert response.status_code == 200, f'Error fetching file: {response.status_code}'\n",
        "\n",
        "data = response.content"
      ],
      "metadata": {
        "id": "iufb2Wh-hTb4"
      },
      "execution_count": 3,
      "outputs": []
    },
    {
      "cell_type": "markdown",
      "source": [
        "## Check header"
      ],
      "metadata": {
        "id": "tQOk-dvCj349"
      }
    },
    {
      "cell_type": "code",
      "source": [
        "magic_header = data[0:6].decode('utf-8')\n",
        "assert magic_header == 'SPBXDS', 'Binary data starts not with expected \"SPBXDS\" sequence!'\n",
        "\n",
        "# current offset\n",
        "offset = 6"
      ],
      "metadata": {
        "id": "6Ujp2itoiXAz"
      },
      "execution_count": 4,
      "outputs": []
    },
    {
      "cell_type": "markdown",
      "source": [
        "## Get Meta Data"
      ],
      "metadata": {
        "id": "UANdJLlYkBVb"
      }
    },
    {
      "cell_type": "code",
      "source": [
        "meta_data_length = int.from_bytes(data[offset:offset+4], byteorder='little', signed=False)\n",
        "offset += 4\n",
        "meta_data_length"
      ],
      "metadata": {
        "colab": {
          "base_uri": "https://localhost:8080/"
        },
        "id": "K_Jlh0J9jSkH",
        "outputId": "4f100407-f73f-498b-cc40-077a2f7f1576"
      },
      "execution_count": 5,
      "outputs": [
        {
          "output_type": "execute_result",
          "data": {
            "text/plain": [
              "682"
            ]
          },
          "metadata": {},
          "execution_count": 5
        }
      ]
    },
    {
      "cell_type": "code",
      "source": [
        "meta_data_string = data[offset:offset+meta_data_length].decode('utf-8')\n",
        "offset += meta_data_length\n",
        "meta_data_string"
      ],
      "metadata": {
        "colab": {
          "base_uri": "https://localhost:8080/",
          "height": 89
        },
        "id": "DlwTSW8Ulb7c",
        "outputId": "6fd7f63d-5f01-4205-d996-fcdd0d626107"
      },
      "execution_count": 6,
      "outputs": [
        {
          "output_type": "execute_result",
          "data": {
            "text/plain": [
              "'{\"MODEL\":\"110400101\",\"IDN\":\"OWON,SDS1104,24080326,V2.0.0\",\"channel\":[{\"Index\":\"CH1\",\"Availability_Flag\":\"TRUE\",\"Display_Switch\":\"OFF\",\"Wave_Character\":\"CH1\",\"Sample_Rate\":\"(5MS/s)\",\"Acqu_Mode\":\"SAMPle\",\"Storage_Depth\":\"20K\",\"Display_Mode\":\"Normal\",\"Hscale\":\"200us\",\"Vscale\":\"200mV\",\"Reference_Zero\":\"0\",\"Scroll_Pos_Time\":\"0.000000us\",\"Trig_After_Time\":\"1196.000000us\",\"Trig_Tops_Tme\":\"1196.000000us\",\"Adc_Data_Time\":\"0.200000us\",\"Adc_Data0_Time\":\"0.000000us\",\"Voltage_Rate\":\"0.031250mv\",\"Data_Length\":\"20000\",\"Probe_Magnification\":\"10X\",\"Current_Rate\":10000.000000,\"Current_Ratio\":3.125000,\"Measure_Current_Switch\":\"OFF\",\"Cyc\":\"25565.281524us\",\"Freq\":\"39.115548Hz\",\"PRECISION\":0},]}'"
            ],
            "application/vnd.google.colaboratory.intrinsic+json": {
              "type": "string"
            }
          },
          "metadata": {},
          "execution_count": 6
        }
      ]
    },
    {
      "cell_type": "code",
      "source": [
        "# Remove trailing commas before parsing\n",
        "clean_json_string = re.sub(r',\\s*([\\]}])', r'\\1', meta_data_string)\n",
        "\n",
        "parsed_data = json.loads(clean_json_string)\n",
        "parsed_data"
      ],
      "metadata": {
        "colab": {
          "base_uri": "https://localhost:8080/"
        },
        "id": "_fptdkmllzOV",
        "outputId": "40db603b-3498-4968-fb43-9b0c09f6d44c"
      },
      "execution_count": 7,
      "outputs": [
        {
          "output_type": "execute_result",
          "data": {
            "text/plain": [
              "{'MODEL': '110400101',\n",
              " 'IDN': 'OWON,SDS1104,24080326,V2.0.0',\n",
              " 'channel': [{'Index': 'CH1',\n",
              "   'Availability_Flag': 'TRUE',\n",
              "   'Display_Switch': 'OFF',\n",
              "   'Wave_Character': 'CH1',\n",
              "   'Sample_Rate': '(5MS/s)',\n",
              "   'Acqu_Mode': 'SAMPle',\n",
              "   'Storage_Depth': '20K',\n",
              "   'Display_Mode': 'Normal',\n",
              "   'Hscale': '200us',\n",
              "   'Vscale': '200mV',\n",
              "   'Reference_Zero': '0',\n",
              "   'Scroll_Pos_Time': '0.000000us',\n",
              "   'Trig_After_Time': '1196.000000us',\n",
              "   'Trig_Tops_Tme': '1196.000000us',\n",
              "   'Adc_Data_Time': '0.200000us',\n",
              "   'Adc_Data0_Time': '0.000000us',\n",
              "   'Voltage_Rate': '0.031250mv',\n",
              "   'Data_Length': '20000',\n",
              "   'Probe_Magnification': '10X',\n",
              "   'Current_Rate': 10000.0,\n",
              "   'Current_Ratio': 3.125,\n",
              "   'Measure_Current_Switch': 'OFF',\n",
              "   'Cyc': '25565.281524us',\n",
              "   'Freq': '39.115548Hz',\n",
              "   'PRECISION': 0}]}"
            ]
          },
          "metadata": {},
          "execution_count": 7
        }
      ]
    },
    {
      "cell_type": "markdown",
      "source": [
        "## Get Waveform Data\n",
        "\n",
        "For each channel get 4 bytes of length information\n",
        "and then this number of signed small integers as\n",
        "waveform data.\n",
        "\n",
        "The waveform will be added as unscaled int array to the parsed\n",
        "json metadata (property `Waveform_raw`) and scaled\n",
        "to Seconds and Volts (property `Waveform'`)."
      ],
      "metadata": {
        "id": "7h_FqOsrnS1V"
      }
    },
    {
      "cell_type": "code",
      "source": [
        "for i in range(0, len(parsed_data['channel'])):\n",
        "  wave_data_length = int.from_bytes(data[offset:offset+4], byteorder='little', signed=False)\n",
        "  offset += 4\n",
        "  wave_data_length\n",
        "\n",
        "  # get signed small int values (each from two bytes of data)\n",
        "  wave_data_bytes = data[offset:offset+wave_data_length]\n",
        "  offset += wave_data_length\n",
        "  wave_data = [\n",
        "      struct.unpack_from('<h', wave_data_bytes, offset=i)[0]\n",
        "      for i in range(0, len(wave_data_bytes), 2)]\n",
        "\n",
        "  parsed_data['channel'][i]['Waveform_raw'] = wave_data\n",
        "\n",
        "  # Scale prefixed units using pint; sample rates like '5MS/s' will be interpreted\n",
        "  # as Siemens, so 5 Megasiemens per Second in this example.\n",
        "  # This does not harm the prefix based scaling.\n",
        "  sample_rate = ureg(parsed_data['channel'][i]['Sample_Rate']).to_base_units().m\n",
        "  voltage_rate_str = re.sub(r'v$', 'V', parsed_data['channel'][i]['Voltage_Rate'])\n",
        "  voltage_rate = ureg(voltage_rate_str).to_base_units().m\n",
        "  probe_magnification = int(re.match(r'(\\d+)', parsed_data['channel'][i]['Probe_Magnification']).group(1))\n",
        "  trigger_time = 0 #ureg(parsed_data['channel'][i]['Trig_After_Time']).to_base_units().m\n",
        "  parsed_data['channel'][i]['Waveform'] = {\n",
        "      't': [i/sample_rate-trigger_time for i in range(0, len(wave_data))],\n",
        "      'v': [i*voltage_rate*probe_magnification for i in wave_data]\n",
        "  }"
      ],
      "metadata": {
        "id": "H3Vv9otZsA13"
      },
      "execution_count": 8,
      "outputs": []
    },
    {
      "cell_type": "markdown",
      "source": [
        "## Plot Waveforms"
      ],
      "metadata": {
        "id": "_NyNKy_LvRcM"
      }
    },
    {
      "cell_type": "code",
      "source": [
        "import matplotlib.pyplot as plt\n",
        "\n",
        "# Create a plot for each waveform, labeled by its 'Index'\n",
        "plt.figure(figsize=(12, 8))\n",
        "\n",
        "for item in parsed_data['channel']:\n",
        "    channel = item['Index']\n",
        "    waveform = item['Waveform']\n",
        "    plt.plot(waveform['t'], waveform['v'], label=channel)\n",
        "\n",
        "# Add titles and labels\n",
        "plt.title('Waveform Data')\n",
        "plt.xlabel('t [s]')\n",
        "plt.ylabel('v [V]')\n",
        "plt.legend()\n",
        "plt.grid(True)\n",
        "plt.show()"
      ],
      "metadata": {
        "colab": {
          "base_uri": "https://localhost:8080/",
          "height": 718
        },
        "id": "qErpk9dWqGtv",
        "outputId": "88f04218-9b6a-4025-d66d-7443f5b106e6"
      },
      "execution_count": 9,
      "outputs": [
        {
          "output_type": "display_data",
          "data": {
            "text/plain": [
              "<Figure size 1200x800 with 1 Axes>"
            ],
            "image/png": "[encoded data removed]"
          },
          "metadata": {}
        }
      ]
    },
    {
      "cell_type": "code",
      "source": [],
      "metadata": {
        "id": "S4rA1GmKkQ9r"
      },
      "execution_count": 9,
      "outputs": []
    }
  ]
}